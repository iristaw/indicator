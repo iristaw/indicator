{
 "cells": [
  {
   "cell_type": "code",
   "execution_count": 1,
   "metadata": {},
   "outputs": [],
   "source": [
    "# load package\n",
    "%matplotlib inline\n",
    "import pandas as pd\n",
    "import numpy as np\n",
    "import codecs\n",
    "import os\n",
    "import re\n",
    "import matplotlib.pyplot as plt\n",
    "import seaborn as sns"
   ]
  },
  {
   "cell_type": "markdown",
   "metadata": {},
   "source": [
    "# Citation success index数学公式\n",
    "\n",
    "##### For most individual journals, the citations regarding to their publictions, the distributions are mostly skewed, with a tail of a relative small number of highly-cited ones. Based on the IF, we can more or less obtain the knowledge of journals, yet for full dataset of publications, else we can say panorama, we need more than just the IFs (Larivière et al., 2016; Milojevic et al., 2017).\n",
    "##### Milojevic et al. (2017) presented Citation success index with an acronym of CSI, which designed and defined as the probability that a random paper in journal A has more citations than a random paper in journal B, when comparing full datasets of publications within these two journals. The equation is given as below.  \n",
    "$CSI=\\sum_{c=0}^\\infty [P_t(>c)+1/2P_t(c)]P_r(c)$\n",
    "==\n",
    "\n",
    "#### where $P_t$(>c) is the fraction of papers having a number of citations larger than c in journal t, and $P_r$(c) is the fraction of papers with c citations in journal r. \n",
    "\n",
    "###### Reference\n",
    " [1].Larivière, V., Kiermer, V., MacCallum, C. J., McNutt, M., Patterson, M., Pulverer, B., et al. (2016). A simple proposal for the publication of journal citation distributions. bioRxiv.  \n",
    " [2].Milojevic, ´ S., Radicchi, F., & Bar-Ilan, J. (2017). Citation success index – An intuitive pair-wise journal comparison metric. Journal of Informetrics, 11, 223–231.\n"
   ]
  },
  {
   "cell_type": "code",
   "execution_count": 26,
   "metadata": {},
   "outputs": [],
   "source": [
    "## CSI函数实现\n",
    "from collections import Counter\n",
    "def CSI(c1,c2):\n",
    "    if len(c1)>0 and len(c2)==0:\n",
    "        return 1\n",
    "    if len(c1)==0 and len(c2)>0:\n",
    "        return 0\n",
    "    if len(c1)==0 and len(c2)==0:\n",
    "        return 0.5\n",
    "    count = 0\n",
    "    n1 = len(c1)\n",
    "    n2 = len(c2)\n",
    "    c1 = Counter(c1)\n",
    "    c2 = Counter(c2)\n",
    "    for i in c1:\n",
    "        for j in c2:\n",
    "            if i>j:\n",
    "                count += c1[i]*c2[j]\n",
    "            if i==j:\n",
    "                count += 0.5*c1[i]*c2[j]\n",
    "            if i<j:\n",
    "                count += 0*c2[j]\n",
    "    return 1.0*count/n1/n2"
   ]
  },
  {
   "cell_type": "markdown",
   "metadata": {},
   "source": [
    "## Just load your data\n",
    "- c1: a list of citation of each publication in journal t.\n",
    "- c2: a list of citation of each publication in journal r."
   ]
  }
 ],
 "metadata": {
  "kernelspec": {
   "display_name": "Python 3",
   "language": "python",
   "name": "python3"
  },
  "language_info": {
   "codemirror_mode": {
    "name": "ipython",
    "version": 3
   },
   "file_extension": ".py",
   "mimetype": "text/x-python",
   "name": "python",
   "nbconvert_exporter": "python",
   "pygments_lexer": "ipython3",
   "version": "3.7.1"
  }
 },
 "nbformat": 4,
 "nbformat_minor": 2
}
