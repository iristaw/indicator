{
 "cells": [
  {
   "cell_type": "code",
   "execution_count": 46,
   "metadata": {},
   "outputs": [],
   "source": [
    "# load package\n",
    "%matplotlib inline\n",
    "import pandas as pd\n",
    "import numpy as np\n",
    "import codecs\n",
    "import os\n",
    "import re\n",
    "import matplotlib.pyplot as plt\n",
    "import seaborn as sns"
   ]
  },
  {
   "cell_type": "markdown",
   "metadata": {},
   "source": [
    "# MNCS新王冠指数数学公式\n",
    "\n",
    "##### The MNCS indicator, where MNCS is an acronym for mean normalized citation score, is the new crown indicator applied in scientometric field. \n",
    "- $MNCS=1/n\\sum_{i=1}^n c_i/e_i$\n",
    "==\n",
    "\n",
    "#### Consider a set of n publications, denoted by 1,. . ., n. Let ci denote the number of citations of publication i, and let ei denote the expected number of citations of publication i given the field in which publication i has been published. In other words, ei equals the average number of citations of all publications published in the same field as publication i. \n",
    "\n",
    "###### Reference\n",
    "[1]. Waltman, Ludo & van Eck, Nees Jan & van Leeuwen, Thed N. & Visser, Martijn S. & van Raan, Anthony F.J., 2011. \"Towards a new crown indicator: Some theoretical considerations,\" Journal of Informetrics, Elsevier, vol. 5(1), pages 37-47.\n",
    "\n"
   ]
  },
  {
   "cell_type": "code",
   "execution_count": 178,
   "metadata": {},
   "outputs": [],
   "source": [
    "## 计算MNCS函数\n",
    "import numpy as np \n",
    "def MNCS(x,y):\n",
    "    #x-目标论文集；y-总体论文集\n",
    "    n = len(x)\n",
    "    m = len(y)\n",
    "    a = np.array(x)\n",
    "    sum1 = 0\n",
    "    for i in range(0, m):\n",
    "            sum1 += y[i]\n",
    "    return (sum (a*m/sum1))/n #Arithmetic Mean算术平均\n",
    "#同理可用几何平均Geometric Mean"
   ]
  },
  {
   "cell_type": "markdown",
   "metadata": {},
   "source": [
    "### Just load your data\n",
    "- x: Your observed publications citations.\n",
    "- y: Standard publications citations( what means whole set of the field of publication i)."
   ]
  }
 ],
 "metadata": {
  "kernelspec": {
   "display_name": "Python 3",
   "language": "python",
   "name": "python3"
  },
  "language_info": {
   "codemirror_mode": {
    "name": "ipython",
    "version": 3
   },
   "file_extension": ".py",
   "mimetype": "text/x-python",
   "name": "python",
   "nbconvert_exporter": "python",
   "pygments_lexer": "ipython3",
   "version": "3.7.1"
  }
 },
 "nbformat": 4,
 "nbformat_minor": 2
}
